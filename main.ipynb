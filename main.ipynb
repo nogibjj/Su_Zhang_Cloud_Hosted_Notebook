{
 "cells": [
  {
   "cell_type": "code",
   "execution_count": 2,
   "metadata": {},
   "outputs": [],
   "source": [
    "from mylib.calculator import (\n",
    "    load_dataset,\n",
    "    grab_mean,\n",
    "    grab_median,\n",
    "    grab_max,\n",
    "    grab_std,\n",
    "    create_histogram,\n",
    ")\n",
    "\n",
    "example_csv = \"https://raw.githubusercontent.com/fivethirtyeight/data/master/drug-use-by-age/drug-use-by-age.csv\""
   ]
  },
  {
   "cell_type": "code",
   "execution_count": 4,
   "metadata": {},
   "outputs": [
    {
     "name": "stdout",
     "output_type": "stream",
     "text": [
      "<bound method NDFrame.head of       age     n  alcohol_use  alcohol_frequency  marijuana_use  \\\n",
      "0      12  2798          3.9                3.0            1.1   \n",
      "1      13  2757          8.5                6.0            3.4   \n",
      "2      14  2792         18.1                5.0            8.7   \n",
      "3      15  2956         29.2                6.0           14.5   \n",
      "4      16  3058         40.1               10.0           22.5   \n",
      "5      17  3038         49.3               13.0           28.0   \n",
      "6      18  2469         58.7               24.0           33.7   \n",
      "7      19  2223         64.6               36.0           33.4   \n",
      "8      20  2271         69.7               48.0           34.0   \n",
      "9      21  2354         83.2               52.0           33.0   \n",
      "10  22-23  4707         84.2               52.0           28.4   \n",
      "11  24-25  4591         83.1               52.0           24.9   \n",
      "12  26-29  2628         80.7               52.0           20.8   \n",
      "13  30-34  2864         77.5               52.0           16.4   \n",
      "14  35-49  7391         75.0               52.0           10.4   \n",
      "15  50-64  3923         67.2               52.0            7.3   \n",
      "16    65+  2448         49.3               52.0            1.2   \n",
      "\n",
      "    marijuana_frequency  cocaine_use cocaine_frequency  crack_use  \\\n",
      "0                   4.0          0.1               5.0        0.0   \n",
      "1                  15.0          0.1               1.0        0.0   \n",
      "2                  24.0          0.1               5.5        0.0   \n",
      "3                  25.0          0.5               4.0        0.1   \n",
      "4                  30.0          1.0               7.0        0.0   \n",
      "5                  36.0          2.0               5.0        0.1   \n",
      "6                  52.0          3.2               5.0        0.4   \n",
      "7                  60.0          4.1               5.5        0.5   \n",
      "8                  60.0          4.9               8.0        0.6   \n",
      "9                  52.0          4.8               5.0        0.5   \n",
      "10                 52.0          4.5               5.0        0.5   \n",
      "11                 60.0          4.0               6.0        0.5   \n",
      "12                 52.0          3.2               5.0        0.4   \n",
      "13                 72.0          2.1               8.0        0.5   \n",
      "14                 48.0          1.5              15.0        0.5   \n",
      "15                 52.0          0.9              36.0        0.4   \n",
      "16                 36.0          0.0                 -        0.0   \n",
      "\n",
      "   crack_frequency  ...  oxycontin_use oxycontin_frequency  tranquilizer_use  \\\n",
      "0                -  ...            0.1                24.5               0.2   \n",
      "1              3.0  ...            0.1                41.0               0.3   \n",
      "2                -  ...            0.4                 4.5               0.9   \n",
      "3              9.5  ...            0.8                 3.0               2.0   \n",
      "4              1.0  ...            1.1                 4.0               2.4   \n",
      "5             21.0  ...            1.4                 6.0               3.5   \n",
      "6             10.0  ...            1.7                 7.0               4.9   \n",
      "7              2.0  ...            1.5                 7.5               4.2   \n",
      "8              5.0  ...            1.7                12.0               5.4   \n",
      "9             17.0  ...            1.3                13.5               3.9   \n",
      "10             5.0  ...            1.7                17.5               4.4   \n",
      "11             6.0  ...            1.3                20.0               4.3   \n",
      "12             6.0  ...            1.2                13.5               4.2   \n",
      "13            15.0  ...            0.9                46.0               3.6   \n",
      "14            48.0  ...            0.3                12.0               1.9   \n",
      "15            62.0  ...            0.4                 5.0               1.4   \n",
      "16               -  ...            0.0                   -               0.2   \n",
      "\n",
      "    tranquilizer_frequency  stimulant_use stimulant_frequency  meth_use  \\\n",
      "0                     52.0            0.2                 2.0       0.0   \n",
      "1                     25.5            0.3                 4.0       0.1   \n",
      "2                      5.0            0.8                12.0       0.1   \n",
      "3                      4.5            1.5                 6.0       0.3   \n",
      "4                     11.0            1.8                 9.5       0.3   \n",
      "5                      7.0            2.8                 9.0       0.6   \n",
      "6                     12.0            3.0                 8.0       0.5   \n",
      "7                      4.5            3.3                 6.0       0.4   \n",
      "8                     10.0            4.0                12.0       0.9   \n",
      "9                      7.0            4.1                10.0       0.6   \n",
      "10                    12.0            3.6                10.0       0.6   \n",
      "11                    10.0            2.6                10.0       0.7   \n",
      "12                    10.0            2.3                 7.0       0.6   \n",
      "13                     8.0            1.4                12.0       0.4   \n",
      "14                     6.0            0.6                24.0       0.2   \n",
      "15                    10.0            0.3                24.0       0.2   \n",
      "16                     5.0            0.0               364.0       0.0   \n",
      "\n",
      "    meth_frequency  sedative_use sedative_frequency  \n",
      "0                -           0.2               13.0  \n",
      "1              5.0           0.1               19.0  \n",
      "2             24.0           0.2               16.5  \n",
      "3             10.5           0.4               30.0  \n",
      "4             36.0           0.2                3.0  \n",
      "5             48.0           0.5                6.5  \n",
      "6             12.0           0.4               10.0  \n",
      "7            105.0           0.3                6.0  \n",
      "8             12.0           0.5                4.0  \n",
      "9              2.0           0.3                9.0  \n",
      "10            46.0           0.2               52.0  \n",
      "11            21.0           0.2               17.5  \n",
      "12            30.0           0.4                4.0  \n",
      "13            54.0           0.4               10.0  \n",
      "14           104.0           0.3               10.0  \n",
      "15            30.0           0.2              104.0  \n",
      "16               -           0.0               15.0  \n",
      "\n",
      "[17 rows x 28 columns]>\n"
     ]
    }
   ],
   "source": [
    "df = load_dataset(example_csv)\n",
    "assert df is not None\n",
    "assert df.shape == (17,28), \"The df is not right\"\n",
    "print (df.head)"
   ]
  },
  {
   "cell_type": "code",
   "execution_count": 5,
   "metadata": {},
   "outputs": [],
   "source": [
    "mean_test = grab_mean(df, \"alcohol_use\")\n",
    "median_test = grab_median(df, \"alcohol_use\")\n",
    "std_test = grab_std(df, \"alcohol_use\")\n",
    "max_test = grab_max(df, \"alcohol_use\")\n",
    "describe_test = df.describe()\n",
    "assert describe_test.loc[\"mean\", \"alcohol_use\"] == mean_test\n",
    "assert describe_test.loc[\"std\", \"alcohol_use\"] == std_test\n",
    "assert describe_test.loc[\"50%\", \"alcohol_use\"] == median_test\n",
    "assert describe_test.loc[\"max\", \"alcohol_use\"] == max_test"
   ]
  },
  {
   "cell_type": "code",
   "execution_count": 6,
   "metadata": {},
   "outputs": [
    {
     "data": {
      "image/png": "[encoded data removed]",
      "text/plain": [
       "<Figure size 640x480 with 1 Axes>"
      ]
     },
     "metadata": {},
     "output_type": "display_data"
    }
   ],
   "source": [
    "output_hist = create_histogram(load_dataset(example_csv), \"alcohol_use\")\n",
    "assert output_hist is None"
   ]
  }
 ],
 "metadata": {
  "kernelspec": {
   "display_name": "Python 3",
   "language": "python",
   "name": "python3"
  },
  "language_info": {
   "codemirror_mode": {
    "name": "ipython",
    "version": 3
   },
   "file_extension": ".py",
   "mimetype": "text/x-python",
   "name": "python",
   "nbconvert_exporter": "python",
   "pygments_lexer": "ipython3",
   "version": "3.12.2"
  }
 },
 "nbformat": 4,
 "nbformat_minor": 2
}
